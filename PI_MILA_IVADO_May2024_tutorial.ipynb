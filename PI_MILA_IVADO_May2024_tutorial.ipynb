{
  "nbformat": 4,
  "nbformat_minor": 0,
  "metadata": {
    "colab": {
      "provenance": [],
      "gpuType": "L4"
    },
    "kernelspec": {
      "name": "python3",
      "display_name": "Python 3"
    },
    "language_info": {
      "name": "python"
    },
    "accelerator": "GPU"
  },
  "cells": [
    {
      "cell_type": "markdown",
      "source": [
        "# **Endgoal: Study Generalization Error of a Linearized Transformer architecture for in-context learning (ICL) tasks.**\n"
      ],
      "metadata": {
        "id": "t4M4MbdaTTXs"
      }
    },
    {
      "cell_type": "markdown",
      "source": [
        "\n",
        "# **Q. What is Transformer?**\n",
        "\n",
        "Ans. Transformer is a NN architecture, used as the backbone of Large Language Models (LLM). What makes Transformers special in comparison to other NN architectures is a layer called the *Attention Mechanism*. This layer can store correlations between different parts of the incoming data, through matrix operations. Attention mechanism equips Transformer architectures with a capability to predict\n",
        "1. missing parts of the data it has been trained on,\n",
        "2. as well as missing parts of new, unseen data of similar type.\n",
        "\n",
        "This property makes LLMs extremely efficient in learning various languages through hidden structures and syntaxes. As a result, LLMs keep showing groundbreaking performance when it comes to predicting text outputs.\n",
        "\n",
        "****\n",
        "\n",
        "Given below is the Transformer architecture taken from the original reference paper __[Attention is all you need](https://arxiv.org/pdf/1706.03762)__.\n",
        "><div>\n",
        "><img src=\"https://drive.google.com/uc?export=view&id=17btW9mybtoC3BkdNVXiszCruFz6x6jmO\" width=\"400\"/>\n",
        "></div>\n",
        "\n",
        "****\n",
        "\n",
        "Pytorch has an inbuilt class called *Transformer*. One can directly call this using the code snippet ```torch.nn.Transformer```.\n",
        "\n",
        "See __[documentation](https://pytorch.org/docs/stable/generated/torch.nn.Transformer.html)__.\n",
        "\n",
        "\n",
        "# **Q. What is in-context learning (ICL)?**\n",
        "\n",
        "Ans. In a nut shell, ICL is the process of providing a prompt or “context” to a pre-trained LLM to guide its answers for a specific task. It is a specific kind of prompt engineering where the demonstrations of the task are included as part of the model. Let us understand this using a single example.\n",
        "\n",
        "Consider a prompt made of $l+1$ tokens: a sequence $\\{x_1,x_2,\\cdots , x_l,x_{l+1}\\}$. We want to train a Transformer architecture such that it produces outputs $\\{y_1,y_2,\\cdots,y_l,y_{l+1}\\}$, when this input sequence is provided. ICL would require training the Transformer architecture on a subset of the input and target data $\\{x_1,y_1,\\cdots, x_n,y_n\\}$. With that, the trained Transformer would be able to predict correct target $y_p$ for input tokens $x_p$ that were not included the training set.\n",
        "\n",
        "# Real-life example in-context learning in LLMs:\n",
        "\n",
        "**Inputs**\n",
        ">Example 1:\n",
        ">Description: This animal has a long trunk and large ears. \\\\\n",
        ">Animal: Elephant\n",
        ">\n",
        ">Example 2:\n",
        ">Description: This animal has a mane and is known as the king of the jungle. \\\\\n",
        ">Animal: Lion\n",
        ">\n",
        ">Example 3:\n",
        ">Description: This animal has black and white stripes. \\\\\n",
        ">Animal: \\\\\n",
        "\n",
        "**Expected output**\n",
        ">Example 3:\n",
        ">Description: This animal has black and white stripes. \\\\\n",
        ">Animal: Zebra\n"
      ],
      "metadata": {
        "id": "Sn9L6cUQVKB6"
      }
    },
    {
      "cell_type": "markdown",
      "source": [
        "# Time to build a Transformer and experiment with ICL.\n",
        "\n",
        "**But we don't have sufficient time+compute to build a full Transformer from scratch and train it. Let's simplify the architecture.**\n",
        "\n",
        "> # Let us build a Linearized Transformer, where the softmax structure of Attention is replaced with a linearized form.\n",
        "\n",
        "Attention layer in Transformers are made of three matrices: key $K$, query $Q$, and value $V$.\n",
        "$$\\text{Attention}(Q,K,V) = \\text{softmax}\\left(\\frac{Q K^\\top}{\\sqrt{d_k}}\\right)V$$\n",
        "\n",
        "Here, $d_k$ is the dimension of the Key matrix, used to normalize the exponents within softmax function. There are several literature that explains how key, query, and values are constructed using parameter matrices for $K$, $Q$, $V$, and data $\\vec{x},\\vec{y}$, e.g. __[this paper](https://arxiv.org/pdf/2304.07235)__.\n",
        "\n",
        "We will simplify life in this session by choosing a linearized form of attention layer which is shown to closely replicate the performances of actual transformers for ICL tasks, see references __[[1]](https://arxiv.org/abs/2402.14180)__, __[[2]](https://arxiv.org/abs/2306.09927)__. These results are particularly well established for last token predictions.\n",
        "\n",
        "Let us define the task: an input sequence made of input tokens $\\vec{x}_i$ and scalar targets $y_i$,\n",
        "$$Z = \\begin{bmatrix} x_1 & x_2 & \\cdots & x_l & x_{l+1} \\\\ y_1 & y_2 & \\cdots & y_l & 0 \\end{bmatrix} \\in \\mathbb{R}^{(d+1)\\times(l+1)}.$$\n",
        "$d$ is the vector dimension of each input token, and $l$ is the number of tokens in a sequence. We will eventually consider $p$ such sequences or samples or prompts. Here $0$ is a token that prompts the target scalar $y_{l+1}$ to be predicted.  \n",
        "\n",
        "**Define a *Linearized Attention* layer**: For arbitrarily sized parameter matrices $K$, $Q$, $V$, the output of the linearized attention layer is the following\n",
        "$$\\text{Linearized Attention}(Q,K,V) = Z + \\frac{1}{l} V Z (K Z)^\\top (QZ).$$"
      ],
      "metadata": {
        "id": "VZlbqKsGcNQY"
      }
    },
    {
      "cell_type": "markdown",
      "source": [
        "# **Exercise 1: Look up Pytorch documentation on matrix operations and NN parameterization (e.g. __[this](https://pytorch.org/docs/stable/generated/torch.nn.parameter.Parameter.html)__). Using this, define an architecture with a single hidden layer with the linearized attention defined above. Inputs $Z$ and Outputs $Z + \\frac{1}{l} V Z (K Z)^\\top (QZ)$**.\n",
        "\n",
        "\n",
        ">Hint: initialize parameters in key, query, and values matrices as independent and identical Gaussian draws from $\\mathbf{N}(0,1/d)$. This initialization will help to reduce divergences in Generalization Error of ICL tasks, when token dimensions grow.\n",
        "\n",
        ">Conventions: $d$:= each token dimension, $l$:= sequence length, $p$:= sample size."
      ],
      "metadata": {
        "id": "4lu7BpTNpibt"
      }
    },
    {
      "cell_type": "code",
      "execution_count": 1,
      "metadata": {
        "id": "xxgZP8hSb4eE"
      },
      "outputs": [],
      "source": [
        "# importing essential libraries\n",
        "\n",
        "import torch\n",
        "import torch.nn as nn\n",
        "import torch.optim as optim\n",
        "import torch.utils.data as data\n",
        "import math\n",
        "import copy\n",
        "import numpy as np\n",
        "import os\n",
        "# from mpi4py import MPI\n",
        "import sys"
      ]
    },
    {
      "cell_type": "code",
      "source": [
        "# importing essential libraries, part 2\n",
        "\n",
        "import warnings\n",
        "import torch.nn.functional as F\n",
        "from torch.nn import Module, MultiheadAttention, ModuleList, Linear, LayerNorm\n",
        "from torch.nn.init import xavier_uniform_\n",
        "from torch.nn import Dropout\n",
        "from typing import Optional, Union, Callable, Any\n",
        "import torch.optim as optim\n",
        "\n",
        "import matplotlib.pyplot as plt"
      ],
      "metadata": {
        "id": "B3mQpCPBb_5m"
      },
      "execution_count": 2,
      "outputs": []
    },
    {
      "cell_type": "code",
      "source": [
        "!pip install cudf-cu11 --extra-index-url=https://pypi.ngc.nvidia.com\n",
        "!rm -rf /usr/local/lib/python3.8/dist-packages/cupy*\n",
        "!pip install cupy-cuda11x"
      ],
      "metadata": {
        "id": "PM5lLdlncFYH"
      },
      "execution_count": null,
      "outputs": []
    },
    {
      "cell_type": "code",
      "source": [
        "! sudo apt-get update\n",
        "! sudo apt-get install texlive-latex-recommended\n",
        "! sudo apt-get install dvipng texlive-latex-extra texlive-fonts-recommended\n",
        "! wget http://mirrors.ctan.org/macros/latex/...\n",
        "! unzip type1cm.zip -d /tmp/type1cm\n",
        "! cd /tmp/type1cm/type1cm/ && sudo latex type1cm.ins\n",
        "! sudo mkdir /usr/share/texmf/tex/latex/type1cm\n",
        "! sudo cp /tmp/type1cm/type1cm/type1cm.sty /usr/share/texmf/tex/latex/type1cm\n",
        "! sudo texhash\n",
        "!apt install cm-super"
      ],
      "metadata": {
        "id": "PvCNJkdJcIRk"
      },
      "execution_count": null,
      "outputs": []
    },
    {
      "cell_type": "markdown",
      "source": [
        "# **Solution:**"
      ],
      "metadata": {
        "id": "Nv_Ai3oHrxTY"
      }
    },
    {
      "cell_type": "code",
      "source": [
        "# the architecture with a single linearized attention layer is defined below.\n",
        "\n",
        "\n",
        "class SingleLayerTransformer(nn.Module):\n",
        "    def __init__(self, sample_size, seq_length, input_dim):\n",
        "        super(SingleLayerTransformer, self).__init__()\n",
        "        self.input_dim = input_dim\n",
        "        # Define key, query, and values for this linear transformer\n",
        "        self.K = nn.Parameter(torch.randn(input_dim + 1, input_dim + 1))  # Key matrix initialized as random Gaussian i.i.d. draws\n",
        "        self.Q = nn.Parameter(torch.randn(input_dim + 1, input_dim + 1))  # Query matrix initialized as random Gaussian i.i.d. draws\n",
        "        self.V = nn.Parameter(torch.randn(input_dim + 1, input_dim + 1))  # Value matrix initialized as random Gaussian i.i.d. draws\n",
        "\n",
        "    def forward(self, Z, sample_size, seq_length, input_dim):\n",
        "        N = seq_length  # we will divide by sequence length, I have labelled this as \"l\" in theory section\n",
        "\n",
        "        Q = self.Q/np.sqrt(input_dim+1)  # Use the redefined query with Identity/d as covariance\n",
        "        K = self.K/np.sqrt(input_dim+1)  # Use the redefined key with Identity/d as covariance\n",
        "        V = self.V/np.sqrt(input_dim+1)  # Use the redefined value with Identity/d as covariance\n",
        "\n",
        "        # we use einsum to construct the network predictor step-by-step\n",
        "        pred1 = torch.einsum('de, mje -> mjd', K, Z).to('cuda') # we use the convention: sample_size, sequence_length, input_dim for every tensor's shape\n",
        "        Qtrans = Q.permute(1,0) # transpose of Q\n",
        "        Ztrans = Z.permute(0,2,1) # transpose of Z\n",
        "        pred1 = torch.einsum('cd, mjd -> mjc', Qtrans, pred1).to('cuda') # This generates: Q^T K Z\n",
        "        pred1 = torch.einsum('mci, mjc -> mij', Ztrans, pred1).to('cuda') # This generates: Z^T Q^T K Z\n",
        "        pred1 = torch.einsum('mib, mij -> mjb', Z, pred1).to('cuda') # This generates: Z Z^T Q^T K Z\n",
        "        pred1 = torch.einsum('ab,mjb -> mja', V, pred1).to('cuda') # This generates: V Z Z^T Q^T K Z\n",
        "\n",
        "        ypred = Z[:,-1,-1] + pred1[:,-1,-1] # this ensures that the prediction is the last element as a scalar from Z + (VZ)(QZ)^T(KZ)/N\n",
        "\n",
        "\n",
        "\n",
        "        return ypred\n"
      ],
      "metadata": {
        "id": "KrFd6dcEcJFb"
      },
      "execution_count": 3,
      "outputs": []
    },
    {
      "cell_type": "markdown",
      "source": [
        "# **Exercise 2: Consider the following relation between inputs and targets $y_i := \\sum_{j=1}^{d} \\omega_{j}x^{j}_{i} + \\epsilon_i$, where $x^j_i \\sim \\mathbf{N}(0,1/\\sqrt{d})$, $\\omega_j \\sim \\mathbf{N}(0,1)$ and $\\epsilon_i \\sim \\mathbf{N}(0, 0.01)$. Using this, define a MSE or $L_2$ loss function for the Linearized Transformer. Then, write a function that (a) trains this architecture using combinations of various optimizers, e.g. __[Adam](https://pytorch.org/docs/stable/generated/torch.optim.Adam.html)__, __[SGD](https://pytorch.org/docs/stable/generated/torch.optim.SGD.html)__, until loss falls below $10^{-10}$, and then (b) computes test loss for a new sample of sequences**.\n",
        "\n",
        "> Hint: look up pytorch forward pass, backward pass documentations."
      ],
      "metadata": {
        "id": "Uk5eY4UCuLL_"
      }
    },
    {
      "cell_type": "markdown",
      "source": [
        "#**Solution:**"
      ],
      "metadata": {
        "id": "B9Na0K2217ZL"
      }
    },
    {
      "cell_type": "code",
      "source": [
        "def TestLoss(sample_size, seq_length, input_dim):\n",
        "\n",
        "    # define inputs, outputs, and target dataset\n",
        "    X = torch.randn(sample_size, seq_length+1, input_dim)/np.sqrt(input_dim)\n",
        "    omega = torch.randn(sample_size,input_dim)\n",
        "\n",
        "    Y = torch.einsum('ka,kia -> ki',omega,X) + 0.1*torch.randn(sample_size, seq_length+1) # covariance of Gaussian noise is 0.01\n",
        "    Ytarget = Y[:,-1].clone().detach().to('cuda')\n",
        "    Y[:,-1]=0\n",
        "    Z = torch.cat((X, Y.unsqueeze(dim=2)), dim=2).to('cuda')\n",
        "    test_loss = 0\n",
        "\n",
        "    # generate linear transformer's predictor and its MSE loss with respect to target\n",
        "    transformer = SingleLayerTransformer(sample_size, seq_length, input_dim)\n",
        "    transformer = transformer.to('cuda')\n",
        "    optimizer1 = optim.Adam(transformer.parameters(), lr=15/sample_size)  # Adjust learning rate as needed\n",
        "    optimizer2 =  optim.SGD(transformer.parameters(), lr=15/sample_size, momentum=0.9)\n",
        "\n",
        "    loss_prev = 1000\n",
        "\n",
        "    for epoch in range(epochs):\n",
        "        optimizer1.zero_grad()  # Zero the gradients to avoid accumulation\n",
        "        outputY = transformer(Z, sample_size, seq_length, input_dim)  # Forward pass\n",
        "\n",
        "        # Calculate loss\n",
        "        loss = loss_function(outputY, Ytarget) # calculating loss\n",
        "\n",
        "        # Backpropagation\n",
        "        loss.backward()  # Compute gradients\n",
        "        optimizer1.step()  # Update weights based on gradients\n",
        "\n",
        "        if (epoch % 1000 == 0) or epoch== epochs - 1:\n",
        "            dloss = np.abs(loss.item()-loss_prev)/loss_prev\n",
        "            print(f\"Seq_len {seq_length}, epoch {epoch+1}, Loss: {loss.item()}, deltaLoss: {dloss}\")\n",
        "            loss_prev = loss.item()\n",
        "\n",
        "\n",
        "            if (dloss < 1e-4) or loss.item() < 1e-10:\n",
        "                print(f\"Seq_len {seq_length}, epoch {epoch+1}, Loss: {loss.item()}, deltaLoss: {dloss}\")\n",
        "                break\n",
        "\n",
        "            if epoch== epochs - 1 and loss.item() > 1e-10:\n",
        "                for epoch1 in range(new_epochs):\n",
        "                    optimizer2.zero_grad()  # Zero the gradients to avoid accumulation\n",
        "                    outputY = transformer(Z, sample_size, seq_length, input_dim)  # Forward pass\n",
        "                    # Calculate loss\n",
        "                    loss = loss_function(outputY, Ytarget) # calculating loss again\n",
        "\n",
        "                    # Backpropagation\n",
        "                    loss.backward()  # Compute gradients\n",
        "                    optimizer2.step()  # Update weights based on gradients\n",
        "                    if (epoch1 % 1000 == 0) or epoch1== new_epochs - 1:\n",
        "                        dloss = np.abs(loss.item()-loss_prev)/loss_prev\n",
        "                        print(f\"Seq_len {seq_length}, epoch {epoch1+1}, Loss: {loss.item()}, deltaLoss: {dloss}\")\n",
        "                        loss_prev = loss.item()\n",
        "\n",
        "                    if (dloss < 1e-4) or loss.item() < 1e-10:\n",
        "                        print(f\"Seq_len {seq_length}, epoch {epoch1+1}, Loss: {loss.item()}, deltaLoss: {dloss}\")\n",
        "                        break\n",
        "\n",
        "\n",
        "\n",
        "    # compute empirical test loss on a new random data set X, Y\n",
        "    newX = torch.randn(test_sample_size, seq_length+1, input_dim)/np.sqrt(input_dim)\n",
        "    newomega = torch.randn(test_sample_size,input_dim)\n",
        "    newY = torch.einsum('ka,kia -> ki',newomega,newX) + 0.1*torch.randn(test_sample_size, seq_length+1) # covariance of Gaussian noise is 0.01\n",
        "    newYtarget = newY[:,-1].clone().detach().to('cuda')\n",
        "    newY[:,-1]=0\n",
        "    newZ = torch.cat((newX, newY.unsqueeze(dim=2)), dim=2).to('cuda')\n",
        "\n",
        "    with torch.no_grad():  # No need to calculate gradients during inference\n",
        "        newYpred = transformer(newZ, sample_size, seq_length, input_dim)\n",
        "        test_loss = loss_function(newYpred, newYtarget) # loss function between target y_{l+1} and the last token prediction given by the trained lienar transformer\n",
        "\n",
        "\n",
        "    return test_loss\n"
      ],
      "metadata": {
        "id": "Gl6kxZOEcTr8"
      },
      "execution_count": 4,
      "outputs": []
    },
    {
      "cell_type": "markdown",
      "source": [
        "#**Exercise 3: Define parameters $\\alpha = l/d$, $\\tau = p/d^2$. Then for $d=10$ and the following choices of $\\alpha, \\tau$, train the Linearized Transformer over prompt $Z$ from exercise:2 for $10,000$ epochs. Finally, compute test loss for a new sample size $1000$.**\n",
        "\n",
        "> Use $\\alpha=0.5$, \\\\\n",
        "> and $\\tau = [0.1, 0.3, 0.6, 0.8, 0.9, 1.0, 1.1, 1.2, 1.4, 1.6, 1.9, 2.2, 2.8]$."
      ],
      "metadata": {
        "id": "zDqoyjhGynyF"
      }
    },
    {
      "cell_type": "markdown",
      "source": [
        "#**Solution:**"
      ],
      "metadata": {
        "id": "tS3ZbyYX2AUb"
      }
    },
    {
      "cell_type": "code",
      "source": [
        "#Compute test loss at various tau for fixed d and alpha.\n",
        "\n",
        "loss_function = nn.MSELoss()\n",
        "epochs = 10000  # Choose the number of epochs\n",
        "new_epochs = 10000\n",
        "\n",
        "\n",
        "input_dim = 10\n",
        "\n",
        "test_sample_size = 1000\n",
        "\n",
        "\n",
        "tau_list = [0.1, 0.3, 0.6, 0.8, 0.9, 1.0, 1.1, 1.2, 1.4, 1.6, 1.9, 2.2, 2.8]\n",
        "\n",
        "\n",
        "\n",
        "\n",
        "test_loss_array = np.zeros((1, len(tau_list))) # tau values appear across columns, alpha values appear across rows\n",
        "\n",
        "\n",
        "alpha = 0.5\n",
        "seq_length = int(alpha*input_dim) # compute sequence length for each (alpha, tau) pair\n",
        "for j in range(len(tau_list)):\n",
        "    tau = tau_list[j]\n",
        "    sample_size = int(tau*(input_dim)**2) # compute sample size for each (alpha, tau) pair\n",
        "    testloss_ij = TestLoss(sample_size, seq_length, input_dim)\n",
        "    test_loss_array[0,j] = testloss_ij\n",
        "    print('done alpha, tau, test loss', alpha, tau, testloss_ij)\n",
        "\n",
        "print(test_loss_array)\n",
        "test_loss_list = list(test_loss_array[0,:])\n"
      ],
      "metadata": {
        "id": "4kjAxAA-ce3w",
        "colab": {
          "base_uri": "https://localhost:8080/"
        },
        "outputId": "364a5311-91c7-4fdc-d0c3-67f10e5e6bcd"
      },
      "execution_count": 7,
      "outputs": [
        {
          "output_type": "stream",
          "name": "stdout",
          "text": [
            "Seq_len 5, epoch 1, Loss: 1.256969690322876, deltaLoss: 0.9987430303096771\n",
            "Seq_len 5, epoch 1001, Loss: 1.174865733128902e-13, deltaLoss: 0.9999999999999065\n",
            "Seq_len 5, epoch 1001, Loss: 1.174865733128902e-13, deltaLoss: 0.9999999999999065\n",
            "done alpha, tau, test loss 0.5 0.1 tensor(10.0565, device='cuda:0')\n",
            "Seq_len 5, epoch 1, Loss: 3.555983066558838, deltaLoss: 0.9964440169334412\n",
            "Seq_len 5, epoch 1001, Loss: 2.9886353808405985e-12, deltaLoss: 0.9999999999991596\n",
            "Seq_len 5, epoch 1001, Loss: 2.9886353808405985e-12, deltaLoss: 0.9999999999991596\n",
            "done alpha, tau, test loss 0.5 0.3 tensor(2.1877, device='cuda:0')\n",
            "Seq_len 5, epoch 1, Loss: 2.443218946456909, deltaLoss: 0.9975567810535431\n",
            "Seq_len 5, epoch 1001, Loss: 1.2330654719505674e-08, deltaLoss: 0.9999999949531111\n",
            "Seq_len 5, epoch 2001, Loss: 9.249630966223776e-05, deltaLoss: 7500.329959058806\n",
            "Seq_len 5, epoch 3001, Loss: 1.416283453181677e-06, deltaLoss: 0.9846882166612547\n",
            "Seq_len 5, epoch 4001, Loss: 0.003256660420447588, deltaLoss: 2298.4411275027674\n",
            "Seq_len 5, epoch 5001, Loss: 2.5140424853020704e-08, deltaLoss: 0.9999922803050956\n",
            "Seq_len 5, epoch 6001, Loss: 0.0007333284011110663, deltaLoss: 29168.292301078774\n",
            "Seq_len 5, epoch 7001, Loss: 1.1946100130444393e-05, deltaLoss: 0.9837097538942378\n",
            "Seq_len 5, epoch 8001, Loss: 0.00013474207662511617, deltaLoss: 10.279168528123144\n",
            "Seq_len 5, epoch 9001, Loss: 0.0002927033929154277, deltaLoss: 1.172323599626542\n",
            "Seq_len 5, epoch 10000, Loss: 0.0023359775077551603, deltaLoss: 6.980698428152852\n",
            "Seq_len 5, epoch 1, Loss: 0.0021147849038243294, deltaLoss: 0.09468952641731287\n",
            "Seq_len 5, epoch 1001, Loss: 3.8010017355816217e-10, deltaLoss: 0.9999998202653269\n",
            "Seq_len 5, epoch 1193, Loss: 9.982376036887786e-11, deltaLoss: 0.9999998202653269\n",
            "done alpha, tau, test loss 0.5 0.6 tensor(3.0904, device='cuda:0')\n",
            "Seq_len 5, epoch 1, Loss: 1.110918641090393, deltaLoss: 0.9988890813589096\n",
            "Seq_len 5, epoch 1001, Loss: 2.757654874585569e-05, deltaLoss: 0.9999751768061802\n",
            "Seq_len 5, epoch 2001, Loss: 0.0015260105719789863, deltaLoss: 54.33725724863671\n",
            "Seq_len 5, epoch 3001, Loss: 0.0003874096437357366, deltaLoss: 0.7461291220064553\n",
            "Seq_len 5, epoch 4001, Loss: 2.698144498936017e-07, deltaLoss: 0.9993035422471888\n",
            "Seq_len 5, epoch 5001, Loss: 0.0001742710592225194, deltaLoss: 644.8922392453081\n",
            "Seq_len 5, epoch 6001, Loss: 3.0854902433929965e-05, deltaLoss: 0.8229487869553106\n",
            "Seq_len 5, epoch 7001, Loss: 0.0008140988065861166, deltaLoss: 25.384747394011622\n",
            "Seq_len 5, epoch 8001, Loss: 6.0748494433937594e-05, deltaLoss: 0.9253794576991416\n",
            "Seq_len 5, epoch 9001, Loss: 5.5386317399097607e-05, deltaLoss: 0.08826847619526136\n",
            "Seq_len 5, epoch 10000, Loss: 0.0004729488573502749, deltaLoss: 7.539091955551833\n",
            "Seq_len 5, epoch 1, Loss: 0.0005546219763346016, deltaLoss: 0.1726891136642245\n",
            "Seq_len 5, epoch 1001, Loss: 1.0808783201810002e-07, deltaLoss: 0.9998051144083174\n",
            "Seq_len 5, epoch 2001, Loss: 3.2698359575533686e-08, deltaLoss: 0.6974834357852776\n",
            "Seq_len 5, epoch 3001, Loss: 1.0258911053995234e-08, deltaLoss: 0.6862560939701883\n",
            "Seq_len 5, epoch 4001, Loss: 3.3165570290094593e-09, deltaLoss: 0.6767145156485339\n",
            "Seq_len 5, epoch 5001, Loss: 1.1184760895233126e-09, deltaLoss: 0.6627598802794106\n",
            "Seq_len 5, epoch 6001, Loss: 4.2190634319538844e-10, deltaLoss: 0.6227846557048866\n",
            "Seq_len 5, epoch 7001, Loss: 2.0451096371942867e-10, deltaLoss: 0.5152692842432144\n",
            "Seq_len 5, epoch 8001, Loss: 1.2793763271012892e-10, deltaLoss: 0.37442164281398493\n",
            "Seq_len 5, epoch 8786, Loss: 9.995944350027486e-11, deltaLoss: 0.37442164281398493\n",
            "done alpha, tau, test loss 0.5 0.8 tensor(3.6806, device='cuda:0')\n",
            "Seq_len 5, epoch 1, Loss: 1.3941317796707153, deltaLoss: 0.9986058682203293\n",
            "Seq_len 5, epoch 1001, Loss: 6.396351818693802e-05, deltaLoss: 0.9999541194604988\n",
            "Seq_len 5, epoch 2001, Loss: 0.0029019799549132586, deltaLoss: 44.369298580981926\n",
            "Seq_len 5, epoch 3001, Loss: 0.0003716674109455198, deltaLoss: 0.8719262652671806\n",
            "Seq_len 5, epoch 4001, Loss: 0.0003464965848252177, deltaLoss: 0.06772406021896739\n",
            "Seq_len 5, epoch 5001, Loss: 0.0003551490372046828, deltaLoss: 0.02497124865986669\n",
            "Seq_len 5, epoch 6001, Loss: 3.6351124435896054e-05, deltaLoss: 0.8976454371888222\n",
            "Seq_len 5, epoch 7001, Loss: 0.0001448786206310615, deltaLoss: 2.9855334017672526\n",
            "Seq_len 5, epoch 8001, Loss: 0.0003345411387272179, deltaLoss: 1.3091132236766576\n",
            "Seq_len 5, epoch 9001, Loss: 0.000793961517047137, deltaLoss: 1.373285151320438\n",
            "Seq_len 5, epoch 10000, Loss: 0.0009396134410053492, deltaLoss: 0.18344960156244558\n",
            "Seq_len 5, epoch 1, Loss: 0.0009879095014184713, deltaLoss: 0.051399925017512844\n",
            "Seq_len 5, epoch 1001, Loss: 6.64925380533532e-07, deltaLoss: 0.9993269369516349\n",
            "Seq_len 5, epoch 2001, Loss: 1.9042798271584616e-07, deltaLoss: 0.7136099955110031\n",
            "Seq_len 5, epoch 3001, Loss: 6.657415241306808e-08, deltaLoss: 0.650397218604111\n",
            "Seq_len 5, epoch 4001, Loss: 2.6742629444242993e-08, deltaLoss: 0.5983031180282277\n",
            "Seq_len 5, epoch 5001, Loss: 1.1866325699827485e-08, deltaLoss: 0.5562767780719483\n",
            "Seq_len 5, epoch 6001, Loss: 5.714064776896066e-09, deltaLoss: 0.5184638512847208\n",
            "Seq_len 5, epoch 7001, Loss: 2.8949125319144287e-09, deltaLoss: 0.4933707185785576\n",
            "Seq_len 5, epoch 8001, Loss: 1.5465108083034806e-09, deltaLoss: 0.4657832348113258\n",
            "Seq_len 5, epoch 9001, Loss: 9.133930833904458e-10, deltaLoss: 0.4093846105140149\n",
            "Seq_len 5, epoch 10000, Loss: 5.660547586217035e-10, deltaLoss: 0.38027255853465497\n",
            "done alpha, tau, test loss 0.5 0.9 tensor(4.0804, device='cuda:0')\n",
            "Seq_len 5, epoch 1, Loss: 1.3550409078598022, deltaLoss: 0.9986449590921402\n",
            "Seq_len 5, epoch 1001, Loss: 0.00029114645440131426, deltaLoss: 0.9997851382547106\n",
            "Seq_len 5, epoch 2001, Loss: 0.00023084749409463257, deltaLoss: 0.20710868841138633\n",
            "Seq_len 5, epoch 3001, Loss: 0.0008326382958330214, deltaLoss: 2.606876042118497\n",
            "Seq_len 5, epoch 4001, Loss: 0.0004552781756501645, deltaLoss: 0.4532101418723759\n",
            "Seq_len 5, epoch 5001, Loss: 0.0005359771894291043, deltaLoss: 0.17725210232995864\n",
            "Seq_len 5, epoch 6001, Loss: 1.834117756516207e-05, deltaLoss: 0.9657799288348481\n",
            "Seq_len 5, epoch 7001, Loss: 0.000442440650658682, deltaLoss: 23.122805042740037\n",
            "Seq_len 5, epoch 8001, Loss: 9.843430598266423e-05, deltaLoss: 0.7775197513245664\n",
            "Seq_len 5, epoch 9001, Loss: 0.00013603524712380022, deltaLoss: 0.3819902092646245\n",
            "Seq_len 5, epoch 10000, Loss: 0.0006494546541944146, deltaLoss: 3.7741645487170836\n",
            "Seq_len 5, epoch 1, Loss: 0.0009731674217619002, deltaLoss: 0.4984378285332635\n",
            "Seq_len 5, epoch 1001, Loss: 7.503301446831756e-08, deltaLoss: 0.9999228981439469\n",
            "Seq_len 5, epoch 2001, Loss: 5.178237927339069e-08, deltaLoss: 0.3098720657790495\n",
            "Seq_len 5, epoch 3001, Loss: 3.951902272092411e-08, deltaLoss: 0.2368248953513869\n",
            "Seq_len 5, epoch 4001, Loss: 3.091929556831019e-08, deltaLoss: 0.21760981321181888\n",
            "Seq_len 5, epoch 5001, Loss: 2.4600103287752972e-08, deltaLoss: 0.20437698092429651\n",
            "Seq_len 5, epoch 6001, Loss: 1.976951224946788e-08, deltaLoss: 0.19636466488699567\n",
            "Seq_len 5, epoch 7001, Loss: 1.60058561959886e-08, deltaLoss: 0.19037677844482906\n",
            "Seq_len 5, epoch 8001, Loss: 1.2903027979405124e-08, deltaLoss: 0.1938558099354353\n",
            "Seq_len 5, epoch 9001, Loss: 1.0413366169359506e-08, deltaLoss: 0.19295174853681132\n",
            "Seq_len 5, epoch 10000, Loss: 8.470087742296073e-09, deltaLoss: 0.18661385717726645\n",
            "done alpha, tau, test loss 0.5 1.0 tensor(4.6415, device='cuda:0')\n",
            "Seq_len 5, epoch 1, Loss: 0.9620850682258606, deltaLoss: 0.9990379149317742\n",
            "Seq_len 5, epoch 1001, Loss: 3.567382736946456e-05, deltaLoss: 0.9999629202982692\n",
            "Seq_len 5, epoch 2001, Loss: 0.00022195256315171719, deltaLoss: 5.221719941990305\n",
            "Seq_len 5, epoch 3001, Loss: 5.653637708746828e-05, deltaLoss: 0.7452772057026327\n",
            "Seq_len 5, epoch 4001, Loss: 0.00046337596722878516, deltaLoss: 7.19606757808144\n",
            "Seq_len 5, epoch 5001, Loss: 0.0006458118441514671, deltaLoss: 0.3937102694680902\n",
            "Seq_len 5, epoch 6001, Loss: 8.303736103698611e-05, deltaLoss: 0.8714217433622807\n",
            "Seq_len 5, epoch 7001, Loss: 0.0023186095058918, deltaLoss: 26.922485456384575\n",
            "Seq_len 5, epoch 8001, Loss: 9.647291153669357e-05, deltaLoss: 0.9583919106293893\n",
            "Seq_len 5, epoch 9001, Loss: 0.0018038272392004728, deltaLoss: 17.697758888663635\n",
            "Seq_len 5, epoch 10000, Loss: 7.457448373315856e-05, deltaLoss: 0.9586576352144384\n",
            "Seq_len 5, epoch 1, Loss: 5.307610990712419e-05, deltaLoss: 0.288280558574962\n",
            "Seq_len 5, epoch 1001, Loss: 1.991090130104567e-06, deltaLoss: 0.9624861329590904\n",
            "Seq_len 5, epoch 2001, Loss: 1.4772891745451489e-06, deltaLoss: 0.2580500740729575\n",
            "Seq_len 5, epoch 3001, Loss: 1.1249027238591225e-06, deltaLoss: 0.23853586471621216\n",
            "Seq_len 5, epoch 4001, Loss: 8.664061965646397e-07, deltaLoss: 0.22979456073115145\n",
            "Seq_len 5, epoch 5001, Loss: 6.730473387506208e-07, deltaLoss: 0.22317344748998802\n",
            "Seq_len 5, epoch 6001, Loss: 5.254478310234845e-07, deltaLoss: 0.219300336290053\n",
            "Seq_len 5, epoch 7001, Loss: 4.130713477934478e-07, deltaLoss: 0.21386801237935665\n",
            "Seq_len 5, epoch 8001, Loss: 3.2583602660452016e-07, deltaLoss: 0.21118705437915966\n",
            "Seq_len 5, epoch 9001, Loss: 2.586151310879359e-07, deltaLoss: 0.206302833413117\n",
            "Seq_len 5, epoch 10000, Loss: 2.0588069560290023e-07, deltaLoss: 0.20391086655755097\n",
            "done alpha, tau, test loss 0.5 1.1 tensor(11.2929, device='cuda:0')\n",
            "Seq_len 5, epoch 1, Loss: 1.5593880414962769, deltaLoss: 0.9984406119585038\n",
            "Seq_len 5, epoch 1001, Loss: 0.0006178751937113702, deltaLoss: 0.9996037707246245\n",
            "Seq_len 5, epoch 2001, Loss: 0.0003909356310032308, deltaLoss: 0.36729029586863515\n",
            "Seq_len 5, epoch 3001, Loss: 5.199310544412583e-05, deltaLoss: 0.8670034109945426\n",
            "Seq_len 5, epoch 4001, Loss: 0.00010594690684229136, deltaLoss: 1.0377106913943954\n",
            "Seq_len 5, epoch 5001, Loss: 0.0014102807035669684, deltaLoss: 12.31120223893143\n",
            "Seq_len 5, epoch 6001, Loss: 0.0001952288148459047, deltaLoss: 0.86156740686296\n",
            "Seq_len 5, epoch 7001, Loss: 7.418063614750281e-05, deltaLoss: 0.6200323389451806\n",
            "Seq_len 5, epoch 8001, Loss: 0.003730922006070614, deltaLoss: 49.295093164905545\n",
            "Seq_len 5, epoch 9001, Loss: 4.875452214037068e-05, deltaLoss: 0.9869323126934731\n",
            "Seq_len 5, epoch 10000, Loss: 0.0006113318959251046, deltaLoss: 11.538978316001122\n",
            "Seq_len 5, epoch 1, Loss: 0.0006259357323870063, deltaLoss: 0.02388855637869549\n",
            "Seq_len 5, epoch 1001, Loss: 5.094973857922014e-06, deltaLoss: 0.9918602284638834\n",
            "Seq_len 5, epoch 2001, Loss: 3.879292307829019e-06, deltaLoss: 0.23860408001952166\n",
            "Seq_len 5, epoch 3001, Loss: 3.3669341519271256e-06, deltaLoss: 0.13207516094311175\n",
            "Seq_len 5, epoch 4001, Loss: 3.0628652893938124e-06, deltaLoss: 0.09031030867035933\n",
            "Seq_len 5, epoch 5001, Loss: 2.8458537144615548e-06, deltaLoss: 0.07085247127378806\n",
            "Seq_len 5, epoch 6001, Loss: 2.676132680790033e-06, deltaLoss: 0.059638003460635844\n",
            "Seq_len 5, epoch 7001, Loss: 2.534783789087669e-06, deltaLoss: 0.0528183421984279\n",
            "Seq_len 5, epoch 8001, Loss: 2.411509740340989e-06, deltaLoss: 0.04863296399376504\n",
            "Seq_len 5, epoch 9001, Loss: 2.3002896796242567e-06, deltaLoss: 0.046120510672706554\n",
            "Seq_len 5, epoch 10000, Loss: 2.1986918454786064e-06, deltaLoss: 0.04416740858579424\n",
            "done alpha, tau, test loss 0.5 1.2 tensor(12.4206, device='cuda:0')\n",
            "Seq_len 5, epoch 1, Loss: 1.3152920007705688, deltaLoss: 0.9986847079992295\n",
            "Seq_len 5, epoch 1001, Loss: 0.037195608019828796, deltaLoss: 0.9717206460633551\n",
            "Seq_len 5, epoch 2001, Loss: 0.0381033830344677, deltaLoss: 0.024405435559891112\n",
            "Seq_len 5, epoch 3001, Loss: 0.03746480867266655, deltaLoss: 0.016758993846386384\n",
            "Seq_len 5, epoch 4001, Loss: 0.037225838750600815, deltaLoss: 0.006378517081286518\n",
            "Seq_len 5, epoch 5001, Loss: 0.03751068934798241, deltaLoss: 0.007651959148321255\n",
            "Seq_len 5, epoch 6001, Loss: 0.03763807937502861, deltaLoss: 0.0033960993322308952\n",
            "Seq_len 5, epoch 7001, Loss: 0.03804146870970726, deltaLoss: 0.010717585524469745\n",
            "Seq_len 5, epoch 8001, Loss: 0.03820252791047096, deltaLoss: 0.0042337797731401465\n",
            "Seq_len 5, epoch 9001, Loss: 0.03748113289475441, deltaLoss: 0.018883436651290948\n",
            "Seq_len 5, epoch 10000, Loss: 0.03721268102526665, deltaLoss: 0.00716232004623673\n",
            "Seq_len 5, epoch 1, Loss: 0.037452083081007004, deltaLoss: 0.0064333460837666424\n",
            "Seq_len 5, epoch 1001, Loss: 0.03705994784832001, deltaLoss: 0.010470318348884022\n",
            "Seq_len 5, epoch 2001, Loss: 0.03705969452857971, deltaLoss: 6.835404661987229e-06\n",
            "Seq_len 5, epoch 2001, Loss: 0.03705969452857971, deltaLoss: 6.835404661987229e-06\n",
            "done alpha, tau, test loss 0.5 1.4 tensor(13.3129, device='cuda:0')\n",
            "Seq_len 5, epoch 1, Loss: 0.9862573742866516, deltaLoss: 0.9990137426257133\n",
            "Seq_len 5, epoch 1001, Loss: 0.08352073282003403, deltaLoss: 0.9153154795111736\n",
            "Seq_len 5, epoch 2001, Loss: 0.08426182717084885, deltaLoss: 0.008873178261159293\n",
            "Seq_len 5, epoch 3001, Loss: 0.0835709273815155, deltaLoss: 0.008199439918772217\n",
            "Seq_len 5, epoch 4001, Loss: 0.08353903889656067, deltaLoss: 0.00038157390319791025\n",
            "Seq_len 5, epoch 5001, Loss: 0.08376269787549973, deltaLoss: 0.0026772989238719206\n",
            "Seq_len 5, epoch 6001, Loss: 0.08366484940052032, deltaLoss: 0.001168162887074593\n",
            "Seq_len 5, epoch 7001, Loss: 0.08360626548528671, deltaLoss: 0.000700221367197581\n",
            "Seq_len 5, epoch 8001, Loss: 0.08363057672977448, deltaLoss: 0.0002907825669122946\n",
            "Seq_len 5, epoch 9001, Loss: 0.08362117409706116, deltaLoss: 0.00011243056165569058\n",
            "Seq_len 5, epoch 10000, Loss: 0.08366034924983978, deltaLoss: 0.000468483649047476\n",
            "Seq_len 5, epoch 1, Loss: 0.08356507867574692, deltaLoss: 0.0011387781063207484\n",
            "Seq_len 5, epoch 1001, Loss: 0.08351831883192062, deltaLoss: 0.000559562015225686\n",
            "Seq_len 5, epoch 2001, Loss: 0.0835181400179863, deltaLoss: 2.1410145322253465e-06\n",
            "Seq_len 5, epoch 2001, Loss: 0.0835181400179863, deltaLoss: 2.1410145322253465e-06\n",
            "done alpha, tau, test loss 0.5 1.6 tensor(5.8986, device='cuda:0')\n",
            "Seq_len 5, epoch 1, Loss: 2.3916757106781006, deltaLoss: 0.9976083242893219\n",
            "Seq_len 5, epoch 1001, Loss: 0.17150795459747314, deltaLoss: 0.9282896281332195\n",
            "Seq_len 5, epoch 2001, Loss: 0.17166267335414886, deltaLoss: 0.0009021083426645898\n",
            "Seq_len 5, epoch 3001, Loss: 0.17155633866786957, deltaLoss: 0.0006194397663837087\n",
            "Seq_len 5, epoch 4001, Loss: 0.17173583805561066, deltaLoss: 0.0010462999451661004\n",
            "Seq_len 5, epoch 5001, Loss: 0.1715487241744995, deltaLoss: 0.0010895447521591546\n",
            "Seq_len 5, epoch 6001, Loss: 0.17154429852962494, deltaLoss: 2.579818005566153e-05\n",
            "Seq_len 5, epoch 6001, Loss: 0.17154429852962494, deltaLoss: 2.579818005566153e-05\n",
            "done alpha, tau, test loss 0.5 1.9 tensor(3.5651, device='cuda:0')\n",
            "Seq_len 5, epoch 1, Loss: 1.6330602169036865, deltaLoss: 0.9983669397830963\n",
            "Seq_len 5, epoch 1001, Loss: 0.2572108507156372, deltaLoss: 0.8424976323265568\n",
            "Seq_len 5, epoch 2001, Loss: 0.2571958601474762, deltaLoss: 5.8281243265214186e-05\n",
            "Seq_len 5, epoch 2001, Loss: 0.2571958601474762, deltaLoss: 5.8281243265214186e-05\n",
            "done alpha, tau, test loss 0.5 2.2 tensor(3.6721, device='cuda:0')\n",
            "Seq_len 5, epoch 1, Loss: 1.8096240758895874, deltaLoss: 0.9981903759241104\n",
            "Seq_len 5, epoch 1001, Loss: 0.3800289034843445, deltaLoss: 0.7899956634377074\n",
            "Seq_len 5, epoch 2001, Loss: 0.38002967834472656, deltaLoss: 2.038951182332896e-06\n",
            "Seq_len 5, epoch 2001, Loss: 0.38002967834472656, deltaLoss: 2.038951182332896e-06\n",
            "done alpha, tau, test loss 0.5 2.8 tensor(2.2207, device='cuda:0')\n",
            "[[10.0565033   2.18771744  3.09038925  3.6806376   4.08040619  4.64145803\n",
            "  11.29286194 12.42056465 13.31289673  5.89860821  3.56511784  3.67212319\n",
            "   2.22066116]]\n"
          ]
        }
      ]
    },
    {
      "cell_type": "markdown",
      "source": [
        "#**Exercise 4: Define a function that provides theoretical estimate of Generalization Error for this in-context learning task.**\n",
        "> Hint: Generalization error is the test loss."
      ],
      "metadata": {
        "id": "TpyRNX8l10OF"
      }
    },
    {
      "cell_type": "markdown",
      "source": [
        "#**Solution:**"
      ],
      "metadata": {
        "id": "m6-5ZNxo3WdX"
      }
    },
    {
      "cell_type": "code",
      "source": [
        "# Given below is the theoretical test loss.\n",
        "\n",
        "def TheoryTestLoss(sigma_epsilon, sigma_omega, alpha, tau):\n",
        "  rho = sigma_epsilon/sigma_omega\n",
        "\n",
        "  if tau < 1:\n",
        "    loss = alpha*(1-tau)/(1+alpha+rho**2)+((1+rho**2)**2+alpha*rho**2)/(1+alpha+rho**2)/(1-tau)\n",
        "  else:\n",
        "    loss = ((1+rho**2)**2+alpha*rho**2)/(1+alpha+rho**2)*tau/(tau-1)\n",
        "\n",
        "  return (sigma_omega**2)*loss"
      ],
      "metadata": {
        "id": "FSbMZr5R3YnM"
      },
      "execution_count": 8,
      "outputs": []
    },
    {
      "cell_type": "markdown",
      "source": [
        "#**Exercise 5: For each point in the following array, compute Generalization error using the funciton just defined. Then plot the empirical test loss and theoretical generalization error of this Linearized Transformer for comparison.**\n",
        "\n",
        "\n",
        "```\n",
        "t_list = np.linspace(0.1, 2.8, num=80)\n",
        "t_array = np.zeros(len(t_list))\n",
        "```\n",
        "\n"
      ],
      "metadata": {
        "id": "yj7F9ogw3gHp"
      }
    },
    {
      "cell_type": "code",
      "source": [
        "# Compute theoretical test loss or generalization error\n",
        "\n",
        "t_list = np.linspace(0.1, 2.8, num=80)\n",
        "t_array = np.zeros(len(t_list))\n",
        "\n",
        "for t in range(len(t_list)):\n",
        "  t_array[t] = TheoryTestLoss(0.1, 1, 0.5, t_list[t])\n",
        "\n",
        "# Plot empirical test loss vs theoretical generalization error\n",
        "\n",
        "plt.figure(1)\n",
        "plt.plot(tau_list, test_loss_list, linestyle='', marker='o', color='b', label='Empricial Test loss')\n",
        "plt.plot(t_list, t_array, color='r', label='Theoretical Test loss')\n",
        "plt.title(r'Test Loss at $\\alpha=0.5$ and $d=10$, $K=Q=V=\\frac{\\mathbf{1}}{\\sqrt{d+1}}$, linear transformer')\n",
        "plt.xlabel(r'$\\tau$')\n",
        "plt.ylabel('Test Loss')\n",
        "plt.legend()\n",
        "plt.show()\n",
        "\n"
      ],
      "metadata": {
        "id": "3OfV6gOSdOO3",
        "colab": {
          "base_uri": "https://localhost:8080/",
          "height": 482
        },
        "outputId": "673ae358-d876-4308-e74f-f54ec14a8b7f"
      },
      "execution_count": 9,
      "outputs": [
        {
          "output_type": "display_data",
          "data": {
            "text/plain": [
              "<Figure size 640x480 with 1 Axes>"
            ],
            "image/png": "[encoded data removed]"
          },
          "metadata": {}
        }
      ]
    },
    {
      "cell_type": "markdown",
      "source": [
        "#**Comment: If you increase token dimension, e.g. $d=2000$ or $d=500$ at home / cluster, you will see a good match between theory and empirical generalization errors. This is because sequence length $l$ also increase in proportion, while sample size $p$ increases quadratically. Please feel free to play with the token dimension. This exaplains why Linearized Transformers (extrapolating this to real life nonlinear transformers) generalize so well when trained over large data.**"
      ],
      "metadata": {
        "id": "BtdI4Mle4Xqk"
      }
    }
  ]
}